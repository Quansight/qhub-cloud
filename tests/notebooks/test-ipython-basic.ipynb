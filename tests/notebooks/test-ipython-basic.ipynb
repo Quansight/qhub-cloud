{
 "cells": [
  {
   "cell_type": "code",
   "execution_count": 1,
   "id": "46619800-d7d5-4e49-be58-32a06e6a91d5",
   "metadata": {},
   "outputs": [
    {
     "name": "stdout",
     "output_type": "stream",
     "text": [
         "uid=1000(example-user) gid=100(users) groups=100(users),101(admin)\n",
         "\n"
     ]
    }
   ],
   "source": [
    "import subprocess; print(subprocess.check_output('id', encoding='utf-8'))"
   ]
  },
  {
   "cell_type": "code",
   "execution_count": 2,
   "id": "77cd2e89-e36b-4c5a-9a0b-7350f9e0ca37",
   "metadata": {},
   "outputs": [
    {
     "name": "stdout",
     "output_type": "stream",
     "text": [
         "0002"
     ]
    }
   ],
   "source": [
    "! umask"
   ]
  },
  {
   "cell_type": "code",
   "execution_count": 3,
   "id": "824c1b3f-5e8c-48d2-973a-85cb9f667760",
   "metadata": {},
   "outputs": [
    {
     "name": "stdout",
     "output_type": "stream",
     "text": [
      "/home/jovyan\n"
     ]
    }
   ],
   "source": [
    "! pwd"
   ]
  },
  {
   "cell_type": "code",
   "execution_count": 4,
   "id": "3eee976b-9974-485a-b363-2d51ccd776fd",
   "metadata": {},
   "outputs": [
    {
     "name": "stdout",
     "output_type": "stream",
     "text": [
      "admin  users\n"
     ]
    }
   ],
   "source": [
    "! ls shared"
   ]
  },
  {
   "cell_type": "code",
   "execution_count": 5,
   "id": "7c0c430f-4913-4a06-90af-6c0bf2e97c44",
   "metadata": {},
   "outputs": [
    {
     "name": "stdout",
     "output_type": "stream",
     "text": [
      "drwxrws---\n"
     ]
    }
   ],
   "source": [
    "! ls -ld /home/shared/admin | cut -d' ' -f1"
   ]
  },
  {
   "cell_type": "code",
   "execution_count": 6,
   "id": "5d727792-f314-4c39-9b99-95b3c12fff5a",
   "metadata": {},
   "outputs": [
    {
     "data": {
      "text/plain": [
       "3"
      ]
     },
     "execution_count": 6,
     "metadata": {},
     "output_type": "execute_result"
    }
   ],
   "source": [
    "1 + 2"
   ]
  }
 ],
 "metadata": {
  "kernelspec": {
   "display_name": "Python 3",
   "language": "python",
   "name": "python3"
  },
  "language_info": {
   "codemirror_mode": {
    "name": "ipython",
    "version": 3
   },
   "file_extension": ".py",
   "mimetype": "text/x-python",
   "name": "python",
   "nbconvert_exporter": "python",
   "pygments_lexer": "ipython3",
   "version": "3.7.6"
  }
 },
 "nbformat": 4,
 "nbformat_minor": 5
}
